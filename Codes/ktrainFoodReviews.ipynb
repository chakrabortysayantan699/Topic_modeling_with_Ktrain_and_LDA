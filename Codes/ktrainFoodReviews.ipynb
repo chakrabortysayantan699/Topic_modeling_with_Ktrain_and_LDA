{
 "cells": [
  {
   "cell_type": "code",
   "execution_count": 1,
   "metadata": {},
   "outputs": [],
   "source": [
    "import os\n",
    "import numpy as np\n",
    "import pandas as pd\n",
    "import ktrain"
   ]
  },
  {
   "cell_type": "code",
   "execution_count": 2,
   "metadata": {},
   "outputs": [],
   "source": [
    "review_data= pd.read_csv('./AmazonReviews/Reviews.csv')"
   ]
  },
  {
   "cell_type": "code",
   "execution_count": 4,
   "metadata": {},
   "outputs": [],
   "source": [
    "# compile the texts\n",
    "texts = review_data.Text"
   ]
  },
  {
   "cell_type": "code",
   "execution_count": 6,
   "metadata": {},
   "outputs": [
    {
     "name": "stdout",
     "output_type": "stream",
     "text": [
      "lang: en\n",
      "preprocessing texts...\n",
      "fitting model...\n",
      "iteration: 1 of max_iter: 5\n",
      "iteration: 2 of max_iter: 5\n",
      "iteration: 3 of max_iter: 5\n",
      "iteration: 4 of max_iter: 5\n",
      "iteration: 5 of max_iter: 5\n",
      "done.\n",
      "Wall time: 21min 4s\n"
     ]
    }
   ],
   "source": [
    "%%time\n",
    "tm = ktrain.text.get_topic_model(texts,n_features=1000,n_topics=100)"
   ]
  },
  {
   "cell_type": "code",
   "execution_count": 7,
   "metadata": {},
   "outputs": [
    {
     "name": "stdout",
     "output_type": "stream",
     "text": [
      "done.\n"
     ]
    }
   ],
   "source": [
    "tm.build(texts, threshold=0.25)"
   ]
  },
  {
   "cell_type": "code",
   "execution_count": 8,
   "metadata": {},
   "outputs": [],
   "source": [
    "tm.train_recommender()"
   ]
  },
  {
   "cell_type": "code",
   "execution_count": 9,
   "metadata": {},
   "outputs": [],
   "source": [
    "rawtext = \"\"\"\n",
    " Purchased it for some streetdogs. They love it and I can see them gradually putting on some weight and they look healthier. Will continue repurchasing from Amazon..\n",
    " \"\"\""
   ]
  },
  {
   "cell_type": "code",
   "execution_count": 10,
   "metadata": {},
   "outputs": [
    {
     "data": {
      "text/plain": [
       "[{'text': \"I got the same product at my local grocery store for $9.99. Much cheaper - what's going on Amazon? You aren't even offering a bulk price. Great product, my dogs love them too, but can be found much cheaper elsewhere.\",\n",
       "  'doc_id': 505,\n",
       "  'topic_proba': 0.26951607885553075,\n",
       "  'topic_id': 24},\n",
       " {'text': 'I searched Google and found these k-cups. The price is reasonable.  Exceptionally fast delivery. I am very pleased and will order again.',\n",
       "  'doc_id': 660,\n",
       "  'topic_proba': 0.2541657440375526,\n",
       "  'topic_id': 24},\n",
       " {'text': \"Man... this stuff is excellent,but for some reason it has increased in price by 50%!! what the h*** is up with that?I used to buy it right from the manufacturer,but found it on Amazon even cheaper..but now Amazon's price is even higher!Guess I'll go back to drinking beer.\",\n",
       "  'doc_id': 700,\n",
       "  'topic_proba': 0.26578947355531923,\n",
       "  'topic_id': 24},\n",
       " {'text': 'Our yorkie and shitzu love greenies and the price at amazon is significantly lower than what I can find at petsmart or Petco. I will continue to buy from Amazon',\n",
       "  'doc_id': 903,\n",
       "  'topic_proba': 0.25416666648766345,\n",
       "  'topic_id': 24},\n",
       " {'text': \"We used to buy Jack Link's Beef sticks from stores at a cost of 2/$1.00.... since I found where to order them online, I now pay about 33cents each!  What a savings!  And, Amazon saves my info so when I need to order more, it's right there and easy to order.  Now, if I can just keep the rest of the family away from them, the 72 stick order might last more than 10 days!\",\n",
       "  'doc_id': 1120,\n",
       "  'topic_proba': 0.26111111107083407,\n",
       "  'topic_id': 24}]"
      ]
     },
     "execution_count": 10,
     "metadata": {},
     "output_type": "execute_result"
    }
   ],
   "source": [
    "tm.recommend(text=rawtext, n=5)"
   ]
  },
  {
   "cell_type": "code",
   "execution_count": 11,
   "metadata": {},
   "outputs": [
    {
     "data": {
      "text/plain": [
       "'love newman difficult hate vegetables chunks just like don really'"
      ]
     },
     "execution_count": 11,
     "metadata": {},
     "output_type": "execute_result"
    }
   ],
   "source": [
    "tm.topics[np.argmax(tm.predict([rawtext]))]"
   ]
  },
  {
   "cell_type": "code",
   "execution_count": 12,
   "metadata": {},
   "outputs": [
    {
     "name": "stdout",
     "output_type": "stream",
     "text": [
      "Result #1\n",
      "Text \n",
      "\n",
      "I got the same product at my local grocery store for $9.99. Much cheaper - what's going on Amazon? You aren't even offering a bulk price. Great product, my dogs love them too, but can be found much cheaper elsewhere.\n",
      "\n",
      "Result #2\n",
      "Text \n",
      "\n",
      "I searched Google and found these k-cups. The price is reasonable. Exceptionally fast delivery. I am very pleased and will order again.\n",
      "\n",
      "Result #3\n",
      "Text \n",
      "\n",
      "Man... this stuff is excellent,but for some reason it has increased in price by 50%!! what the h*** is up with that?I used to buy it right from the manufacturer,but found it on Amazon even cheaper..but now Amazon's price is even higher!Guess I'll go back to drinking beer.\n",
      "\n",
      "Result #4\n",
      "Text \n",
      "\n",
      "Our yorkie and shitzu love greenies and the price at amazon is significantly lower than what I can find at petsmart or Petco. I will continue to buy from Amazon\n",
      "\n",
      "Result #5\n",
      "Text \n",
      "\n",
      "We used to buy Jack Link's Beef sticks from stores at a cost of 2/$1.00.... since I found where to order them online, I now pay about 33cents each! What a savings! And, Amazon saves my info so when I need to order more, it's right there and easy to order. Now, if I can just keep the rest of the family away from them, the 72 stick order might last more than 10 days!\n",
      "\n"
     ]
    }
   ],
   "source": [
    "for i, doc in enumerate(tm.recommend(text=rawtext, n=5)):\n",
    "  print('Result #%s'% (i+1))\n",
    "  print('Text \\n')\n",
    "  print(\" \".join(doc['text'].split()[:500]))\n",
    "  print()"
   ]
  },
  {
   "cell_type": "code",
   "execution_count": 19,
   "metadata": {},
   "outputs": [],
   "source": [
    "tm.save('./tmp/tm')"
   ]
  },
  {
   "cell_type": "code",
   "execution_count": null,
   "metadata": {},
   "outputs": [],
   "source": []
  }
 ],
 "metadata": {
  "kernelspec": {
   "display_name": "Python 3",
   "language": "python",
   "name": "python3"
  },
  "language_info": {
   "codemirror_mode": {
    "name": "ipython",
    "version": 3
   },
   "file_extension": ".py",
   "mimetype": "text/x-python",
   "name": "python",
   "nbconvert_exporter": "python",
   "pygments_lexer": "ipython3",
   "version": "3.8.5"
  }
 },
 "nbformat": 4,
 "nbformat_minor": 4
}
